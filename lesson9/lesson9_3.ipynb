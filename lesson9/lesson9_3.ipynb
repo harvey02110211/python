{
 "cells": [
  {
   "cell_type": "markdown",
   "id": "316dea46",
   "metadata": {},
   "source": [
    "### list實體"
   ]
  },
  {
   "cell_type": "code",
   "execution_count": 1,
   "id": "84bf1cca",
   "metadata": {},
   "outputs": [
    {
     "name": "stdout",
     "output_type": "stream",
     "text": [
      "<class 'list'>\n"
     ]
    }
   ],
   "source": [
    "list1 = [89, 92, 74, 35, 67]\n",
    "print(type(list1))"
   ]
  },
  {
   "cell_type": "code",
   "execution_count": 2,
   "id": "7b635058",
   "metadata": {},
   "outputs": [
    {
     "data": {
      "text/plain": [
       "35"
      ]
     },
     "execution_count": 2,
     "metadata": {},
     "output_type": "execute_result"
    }
   ],
   "source": [
    "#內建function\n",
    "max(list1)\n",
    "min(list1)"
   ]
  },
  {
   "cell_type": "code",
   "execution_count": 3,
   "id": "5ec39c93",
   "metadata": {},
   "outputs": [],
   "source": [
    "list1.append(100)"
   ]
  },
  {
   "cell_type": "code",
   "execution_count": 4,
   "id": "5f52e599",
   "metadata": {},
   "outputs": [],
   "source": [
    "list1.extend([99,98])"
   ]
  },
  {
   "cell_type": "code",
   "execution_count": 5,
   "id": "6e0a32f9",
   "metadata": {},
   "outputs": [
    {
     "data": {
      "text/plain": [
       "98"
      ]
     },
     "execution_count": 5,
     "metadata": {},
     "output_type": "execute_result"
    }
   ],
   "source": [
    "list1.pop()"
   ]
  },
  {
   "cell_type": "code",
   "execution_count": 6,
   "id": "b1e3c08d",
   "metadata": {},
   "outputs": [
    {
     "data": {
      "text/plain": [
       "[89, 92, 74, 35, 67, 100, 99]"
      ]
     },
     "execution_count": 6,
     "metadata": {},
     "output_type": "execute_result"
    }
   ],
   "source": [
    "list1"
   ]
  }
 ],
 "metadata": {
  "kernelspec": {
   "display_name": "base",
   "language": "python",
   "name": "python3"
  },
  "language_info": {
   "codemirror_mode": {
    "name": "ipython",
    "version": 3
   },
   "file_extension": ".py",
   "mimetype": "text/x-python",
   "name": "python",
   "nbconvert_exporter": "python",
   "pygments_lexer": "ipython3",
   "version": "3.12.9"
  }
 },
 "nbformat": 4,
 "nbformat_minor": 5
}
