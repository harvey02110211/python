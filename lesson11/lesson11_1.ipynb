{
 "cells": [
  {
   "cell_type": "markdown",
   "id": "808a2925",
   "metadata": {},
   "source": [
    "###　https://www.perplexity.ai/search/b92996f2-3fae-420d-8946-bc113e815f93"
   ]
  },
  {
   "cell_type": "code",
   "execution_count": 5,
   "id": "255709ce",
   "metadata": {},
   "outputs": [],
   "source": [
    "import requests\n",
    "from requests import Response"
   ]
  },
  {
   "cell_type": "code",
   "execution_count": 10,
   "id": "b1e29317",
   "metadata": {},
   "outputs": [],
   "source": [
    "url:str = 'https://raw.githubusercontent.com/roberthsu2003/__2025_04_29_python_2_4/refs/heads/main/lesson10/students.csv'"
   ]
  },
  {
   "cell_type": "code",
   "execution_count": 11,
   "id": "a407c1c5",
   "metadata": {},
   "outputs": [],
   "source": [
    "# 1. 發送 GET 請求並取得網頁內容\n",
    "response:Response = requests.get(url)"
   ]
  },
  {
   "cell_type": "code",
   "execution_count": 12,
   "id": "299a54fe",
   "metadata": {},
   "outputs": [
    {
     "name": "stdout",
     "output_type": "stream",
     "text": [
      "下載成功\n"
     ]
    }
   ],
   "source": [
    "## 印出狀態碼，200 表示成功\n",
    "if response.status_code == 200:\n",
    "    print(\"下載成功\")\n",
    "    content:str = response.text"
   ]
  },
  {
   "cell_type": "code",
   "execution_count": 13,
   "id": "72ae1dbf",
   "metadata": {},
   "outputs": [
    {
     "name": "stdout",
     "output_type": "stream",
     "text": [
      "姓名,國文,英文,數學\n",
      "尚偉倫,68,70,74\n",
      "鄭孟芳,59,73,61\n",
      "楊韻如,53,91,53\n",
      "吳明妮,76,64,78\n",
      "謝哲維,61,69,68\n",
      "張雅芬,66,77,95\n",
      "呂傑宣,73,71,58\n",
      "吳昕婷,83,59,76\n",
      "高俊男,69,100,68\n",
      "陳文賢,71,93,79\n",
      "陳倩妮,74,83,92\n",
      "吳淑惠,97,58,59\n",
      "楊韋廷,65,81,50\n",
      "蘇凡菁,83,79,65\n",
      "楊火帆,56,59,66\n",
      "謝水儒,74,61,75\n",
      "杜儀鳳,86,57,57\n",
      "賴苑禾,77,98,98\n",
      "王惠皓,94,62,100\n",
      "洪阿惠,96,69,74\n",
      "周芷蓁,96,77,69\n",
      "簡美君,64,90,91\n",
      "趙家豪,61,78,77\n",
      "楊綺芬,62,91,55\n",
      "許淑婷,90,96,71\n",
      "李政白,96,61,53\n",
      "劉林中,66,63,68\n",
      "楊少亮,50,79,90\n",
      "蔡孟泉,82,92,57\n",
      "吳欣書,77,67,96\n",
      "林思賢,72,50,90\n",
      "楊健麟,75,88,71\n",
      "盧文啟,100,78,60\n",
      "柯韋成,62,78,77\n",
      "蒙淑惠,81,90,96\n",
      "黃佩芬,67,76,89\n",
      "方雅慧,60,97,78\n",
      "劉耿琦,84,52,78\n",
      "林佳人,84,93,79\n",
      "陳信念,59,97,81\n",
      "黃善迪,99,64,75\n",
      "王怡珊,80,76,54\n",
      "葉軍仰,64,53,61\n",
      "林志成,79,57,67\n",
      "蔡至剛,96,76,89\n",
      "黃健發,97,70,65\n",
      "黃嘉琪,79,66,99\n",
      "王泓泰,81,91,76\n",
      "陳嘉淑,96,74,90\n",
      "胡芳瑜,97,80,77\n",
      "\n"
     ]
    }
   ],
   "source": [
    "print(content)"
   ]
  }
 ],
 "metadata": {
  "kernelspec": {
   "display_name": "base",
   "language": "python",
   "name": "python3"
  },
  "language_info": {
   "codemirror_mode": {
    "name": "ipython",
    "version": 3
   },
   "file_extension": ".py",
   "mimetype": "text/x-python",
   "name": "python",
   "nbconvert_exporter": "python",
   "pygments_lexer": "ipython3",
   "version": "3.12.9"
  }
 },
 "nbformat": 4,
 "nbformat_minor": 5
}
