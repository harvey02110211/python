{
 "cells": [
  {
   "cell_type": "markdown",
   "id": "7dfb3a52",
   "metadata": {},
   "source": [
    "### 複合運算子\n",
    "- +=\n",
    "- -=\n",
    "- *=\n",
    "- **=\n",
    "- /=\n",
    "- //=\n",
    "- %="
   ]
  },
  {
   "cell_type": "code",
   "execution_count": 13,
   "id": "5efe7810",
   "metadata": {},
   "outputs": [
    {
     "name": "stdout",
     "output_type": "stream",
     "text": [
      "15\n"
     ]
    }
   ],
   "source": [
    "b=5\n",
    "b=5+10\n",
    "print(b)"
   ]
  },
  {
   "cell_type": "code",
   "execution_count": 14,
   "id": "e227697a",
   "metadata": {},
   "outputs": [
    {
     "name": "stdout",
     "output_type": "stream",
     "text": [
      "15\n"
     ]
    }
   ],
   "source": [
    "n=5\n",
    "n+=10\n",
    "print(n)"
   ]
  },
  {
   "cell_type": "markdown",
   "id": "846d1e78",
   "metadata": {},
   "source": [
    "### 使用內建的數學函式庫"
   ]
  },
  {
   "cell_type": "code",
   "execution_count": 16,
   "id": "2687a982",
   "metadata": {},
   "outputs": [
    {
     "name": "stdout",
     "output_type": "stream",
     "text": [
      "鄰邊: 1\n",
      "對邊: 1\n",
      "斜邊: 1.4142135623730951\n"
     ]
    }
   ],
   "source": [
    "#國中數學\n",
    "import math\n",
    "side=eval(input(\"輸入鄰邊\"))\n",
    "another_side=eval(input(\"輸入對邊\"))\n",
    "result=math.sqrt(side**2+another_side**2)\n",
    "print(\"鄰邊:\",side)\n",
    "print('對邊:',another_side)\n",
    "print('斜邊:',result)\n"
   ]
  },
  {
   "cell_type": "code",
   "execution_count": null,
   "id": "2e48b89a",
   "metadata": {},
   "outputs": [
    {
     "name": "stdout",
     "output_type": "stream",
     "text": [
      "對邊: 3\n",
      "斜邊: 5\n",
      "角度是: 36.86989764584402\n"
     ]
    }
   ],
   "source": [
    "#國中數學\n",
    "import math\n",
    "side=eval(input(\"輸入對邊\"))\n",
    "another_side=eval(input(\"輸入斜邊\"))\n",
    "radian=math.asin(side/another_side)\n",
    "degree=math.degrees(radian)\n",
    "\n",
    "print('對邊:',side)\n",
    "print('斜邊:',another_side)\n",
    "print('角度是:',degree)\n"
   ]
  },
  {
   "cell_type": "markdown",
   "id": "0e44b626",
   "metadata": {},
   "source": [
    "# 字串補差(字串的格式化)"
   ]
  },
  {
   "cell_type": "code",
   "execution_count": null,
   "id": "9fe491ee",
   "metadata": {},
   "outputs": [
    {
     "data": {
      "text/plain": [
       "'國文成績:92，數學成績:100'"
      ]
     },
     "execution_count": 12,
     "metadata": {},
     "output_type": "execute_result"
    }
   ],
   "source": [
    "#字串相加\n",
    "chinese=92\n",
    "math=100\n",
    "\"國文成績:\"+str(chinese)+\"，數學成績:\"+str(math)\n"
   ]
  },
  {
   "cell_type": "code",
   "execution_count": 20,
   "id": "acb8e323",
   "metadata": {},
   "outputs": [
    {
     "name": "stdout",
     "output_type": "stream",
     "text": [
      "國文成績:92.25，數學成績:100\n"
     ]
    }
   ],
   "source": [
    "#字串和變數整合，成為新的字串\n",
    "chinese=92.250\n",
    "math=100\n",
    "print(f\"國文成績:{chinese:.2f}，數學成績:{math}\")\n"
   ]
  }
 ],
 "metadata": {
  "kernelspec": {
   "display_name": "base",
   "language": "python",
   "name": "python3"
  },
  "language_info": {
   "codemirror_mode": {
    "name": "ipython",
    "version": 3
   },
   "file_extension": ".py",
   "mimetype": "text/x-python",
   "name": "python",
   "nbconvert_exporter": "python",
   "pygments_lexer": "ipython3",
   "version": "3.12.9"
  }
 },
 "nbformat": 4,
 "nbformat_minor": 5
}
