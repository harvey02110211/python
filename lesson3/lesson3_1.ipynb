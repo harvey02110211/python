{
 "cells": [
  {
   "cell_type": "markdown",
   "id": "2e9214d4",
   "metadata": {},
   "source": [
    "### 數值運算(int,float)\n",
    "數學運算子\n",
    "運算子運算順序"
   ]
  },
  {
   "cell_type": "code",
   "execution_count": 35,
   "id": "5b45f2c5",
   "metadata": {},
   "outputs": [
    {
     "data": {
      "text/plain": [
       "10"
      ]
     },
     "execution_count": 35,
     "metadata": {},
     "output_type": "execute_result"
    }
   ],
   "source": [
    "2 * (1 + 2) ** 2 - 2 ** 2 * 2"
   ]
  },
  {
   "cell_type": "code",
   "execution_count": 36,
   "id": "2b8efa96",
   "metadata": {},
   "outputs": [
    {
     "data": {
      "text/plain": [
       "25"
      ]
     },
     "execution_count": 36,
     "metadata": {},
     "output_type": "execute_result"
    }
   ],
   "source": [
    "5+10\n",
    "20+5"
   ]
  },
  {
   "cell_type": "markdown",
   "id": "d4576f33",
   "metadata": {},
   "source": [
    "### 建立變數\n",
    "- 依靠指定運算子"
   ]
  },
  {
   "cell_type": "code",
   "execution_count": 37,
   "id": "8096d9c3",
   "metadata": {},
   "outputs": [
    {
     "name": "stdout",
     "output_type": "stream",
     "text": [
      "total= 40\n"
     ]
    }
   ],
   "source": [
    "n=15#敘述式\n",
    "m=25#敘述式\n",
    "total=n+m#敘述式\n",
    "print(\"total=\",total)#敘述式"
   ]
  },
  {
   "cell_type": "code",
   "execution_count": 38,
   "id": "aacb561e",
   "metadata": {},
   "outputs": [
    {
     "name": "stdout",
     "output_type": "stream",
     "text": [
      "15 25\n"
     ]
    }
   ],
   "source": [
    "x=5+10\n",
    "y=20+5\n",
    "print(x,y)"
   ]
  },
  {
   "cell_type": "markdown",
   "id": "743a876a",
   "metadata": {},
   "source": [
    "### 輸入\n",
    "- input()\n",
    "\n",
    "### 輸出\n",
    "- print()"
   ]
  },
  {
   "cell_type": "code",
   "execution_count": 40,
   "id": "a512c90e",
   "metadata": {},
   "outputs": [
    {
     "name": "stdout",
     "output_type": "stream",
     "text": [
      "輸入的整數為: 22\n"
     ]
    }
   ],
   "source": [
    "value_str=input(\"請輸入整數\")\n",
    "value= int (value_str)\n",
    "print(\"輸入的整數為:\",value)"
   ]
  },
  {
   "cell_type": "code",
   "execution_count": 43,
   "id": "3a90f106",
   "metadata": {},
   "outputs": [
    {
     "name": "stdout",
     "output_type": "stream",
     "text": [
      "兩數相加總合為: 1022\n"
     ]
    }
   ],
   "source": [
    "value1=int(input(\"請輸入第一個整數\"))\n",
    "value2=int(input(\"請輸入第二個整數\"))\n",
    "total=value1+value2\n",
    "print(\"兩數相加總合為:\",total)"
   ]
  },
  {
   "cell_type": "code",
   "execution_count": 44,
   "id": "fd22fe03",
   "metadata": {},
   "outputs": [
    {
     "name": "stdout",
     "output_type": "stream",
     "text": [
      "面積為: 220\n"
     ]
    }
   ],
   "source": [
    "width=eval(input(\"請輸入矩形寬\"))\n",
    "height=eval(input(\"請輸入矩形高\"))\n",
    "area=width*height\n",
    "print(\"面積為:\",area)"
   ]
  }
 ],
 "metadata": {
  "kernelspec": {
   "display_name": "base",
   "language": "python",
   "name": "python3"
  },
  "language_info": {
   "codemirror_mode": {
    "name": "ipython",
    "version": 3
   },
   "file_extension": ".py",
   "mimetype": "text/x-python",
   "name": "python",
   "nbconvert_exporter": "python",
   "pygments_lexer": "ipython3",
   "version": "3.12.9"
  }
 },
 "nbformat": 4,
 "nbformat_minor": 5
}
