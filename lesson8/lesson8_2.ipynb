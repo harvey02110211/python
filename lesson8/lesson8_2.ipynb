{
 "cells": [
  {
   "cell_type": "markdown",
   "id": "d5082937",
   "metadata": {},
   "source": [
    "### list_comprehension(快速建立list)\n",
    "- [ expression for item in iterable ]"
   ]
  },
  {
   "cell_type": "code",
   "execution_count": 21,
   "id": "2041166a",
   "metadata": {},
   "outputs": [
    {
     "name": "stdout",
     "output_type": "stream",
     "text": [
      "1\n",
      "2\n",
      "3\n",
      "4\n",
      "5\n",
      "6\n",
      "7\n",
      "8\n",
      "9\n",
      "10\n"
     ]
    }
   ],
   "source": [
    "for i in range(1,11):\n",
    "    print(i)\n"
   ]
  },
  {
   "cell_type": "code",
   "execution_count": 22,
   "id": "fdbfb9ad",
   "metadata": {},
   "outputs": [
    {
     "data": {
      "text/plain": [
       "[2, 4, 6, 8, 10, 12, 14, 16, 18, 20]"
      ]
     },
     "execution_count": 22,
     "metadata": {},
     "output_type": "execute_result"
    }
   ],
   "source": [
    "[i*2 for i in range(1, 11)]"
   ]
  },
  {
   "cell_type": "code",
   "execution_count": 23,
   "id": "77b383ff",
   "metadata": {},
   "outputs": [
    {
     "ename": "NameError",
     "evalue": "name 'iterable' is not defined",
     "output_type": "error",
     "traceback": [
      "\u001b[31m---------------------------------------------------------------------------\u001b[39m",
      "\u001b[31mNameError\u001b[39m                                 Traceback (most recent call last)",
      "\u001b[36mCell\u001b[39m\u001b[36m \u001b[39m\u001b[32mIn[23]\u001b[39m\u001b[32m, line 1\u001b[39m\n\u001b[32m----> \u001b[39m\u001b[32m1\u001b[39m - [ expression \u001b[38;5;28;01mfor\u001b[39;00m item \u001b[38;5;129;01min\u001b[39;00m \u001b[43miterable\u001b[49m \u001b[38;5;28;01mif\u001b[39;00m 條件式]\n",
      "\u001b[31mNameError\u001b[39m: name 'iterable' is not defined"
     ]
    }
   ],
   "source": [
    "- [ expression for item in iterable if 條件式]"
   ]
  },
  {
   "cell_type": "code",
   "execution_count": null,
   "id": "9db39856",
   "metadata": {},
   "outputs": [],
   "source": [
    "[i*2 for i in range(1, 11) if i % 2 == 1]"
   ]
  },
  {
   "cell_type": "markdown",
   "id": "a10bbc6e",
   "metadata": {},
   "source": [
    "### map(),filter"
   ]
  },
  {
   "cell_type": "code",
   "execution_count": null,
   "id": "c2457f1f",
   "metadata": {},
   "outputs": [
    {
     "data": {
      "text/plain": [
       "[{'姓名': '張xx', 'age': 35, 'score': 256},\n",
       " {'姓名': '王xx', 'age': 45, 'score': 278},\n",
       " {'姓名': '李xx', 'age': 37, 'score': 291}]"
      ]
     },
     "execution_count": 4,
     "metadata": {},
     "output_type": "execute_result"
    }
   ],
   "source": [
    "#記憶體內的表格資料\n",
    "\n",
    "students = [{\"姓名\":\"張xx\",\"age\":35,\"score\":256}, \n",
    "            {\"姓名\":\"王xx\",\"age\":45,\"score\":278}, \n",
    "            {\"姓名\":\"李xx\",\"age\":37,\"score\":291}]\n",
    "students"
   ]
  },
  {
   "cell_type": "code",
   "execution_count": null,
   "id": "7f584aa7",
   "metadata": {},
   "outputs": [
    {
     "name": "stdout",
     "output_type": "stream",
     "text": [
      "{'姓名': '張xx', 'age': 35, 'score': 256}\n",
      "{'姓名': '王xx', 'age': 45, 'score': 278}\n",
      "{'姓名': '李xx', 'age': 37, 'score': 291}\n"
     ]
    }
   ],
   "source": [
    "for student in students:\n",
    "    print(student)"
   ]
  },
  {
   "cell_type": "code",
   "execution_count": null,
   "id": "476997f2",
   "metadata": {},
   "outputs": [],
   "source": [
    "students = [\n",
    "    {\"name\": \"Alice\", \"Chinese\": 85, \"English\": 92, \"Math\": 78},\n",
    "    {\"name\": \"Bob\", \"Chinese\": 75, \"English\": 88, \"Math\": 90},\n",
    "    {\"name\": \"Charlie\", \"Chinese\": 90, \"English\": 85, \"Math\": 85},\n",
    "    {\"name\": \"David\", \"Chinese\": 60, \"English\": 70, \"Math\": 80},\n",
    "    {\"name\": \"Eva\", \"Chinese\": 95, \"English\": 98, \"Math\": 92},\n",
    "    {\"name\": \"Frank\", \"Chinese\": 70, \"English\": 75, \"Math\": 68},\n",
    "    {\"name\": \"Grace\", \"Chinese\": 88, \"English\": 82, \"Math\": 85},\n",
    "    {\"name\": \"Helen\", \"Chinese\": 92, \"English\": 90, \"Math\": 94},\n",
    "    {\"name\": \"Ian\", \"Chinese\": 78, \"English\": 80, \"Math\": 72},\n",
    "    {\"name\": \"Jane\", \"Chinese\": 85, \"English\": 87, \"Math\": 89}\n",
    "]"
   ]
  },
  {
   "cell_type": "code",
   "execution_count": null,
   "id": "3606a963",
   "metadata": {},
   "outputs": [
    {
     "name": "stdout",
     "output_type": "stream",
     "text": [
      "{'name': 'Alice', 'Chinese': 85, 'English': 92, 'Math': 78}\n",
      "{'name': 'Charlie', 'Chinese': 90, 'English': 85, 'Math': 85}\n",
      "{'name': 'Eva', 'Chinese': 95, 'English': 98, 'Math': 92}\n",
      "{'name': 'Grace', 'Chinese': 88, 'English': 82, 'Math': 85}\n",
      "{'name': 'Helen', 'Chinese': 92, 'English': 90, 'Math': 94}\n",
      "{'name': 'Jane', 'Chinese': 85, 'English': 87, 'Math': 89}\n"
     ]
    }
   ],
   "source": [
    "for student in students:\n",
    "    if student['Chinese'] >= 80:\n",
    "        print(student)"
   ]
  },
  {
   "cell_type": "markdown",
   "id": "83161f90",
   "metadata": {},
   "source": [
    "### 使用comprehension的技巧"
   ]
  },
  {
   "cell_type": "code",
   "execution_count": null,
   "id": "630b3625",
   "metadata": {},
   "outputs": [
    {
     "data": {
      "text/plain": [
       "[{'name': 'Alice', 'Chinese': 85, 'English': 92, 'Math': 78},\n",
       " {'name': 'Charlie', 'Chinese': 90, 'English': 85, 'Math': 85},\n",
       " {'name': 'Eva', 'Chinese': 95, 'English': 98, 'Math': 92},\n",
       " {'name': 'Grace', 'Chinese': 88, 'English': 82, 'Math': 85},\n",
       " {'name': 'Helen', 'Chinese': 92, 'English': 90, 'Math': 94},\n",
       " {'name': 'Jane', 'Chinese': 85, 'English': 87, 'Math': 89}]"
      ]
     },
     "execution_count": 9,
     "metadata": {},
     "output_type": "execute_result"
    }
   ],
   "source": [
    "student_80 = [student for student in students if student['Chinese'] >= 80] #過濾\n",
    "student_80\n"
   ]
  },
  {
   "cell_type": "markdown",
   "id": "85267e74",
   "metadata": {},
   "source": [
    "### 使用filter()的技巧\n",
    "- 說明書\n",
    "- filter(function, iterable)\n",
    "Python 中的 filter() 函式用來從一個可迭代物件（如列表、元組等）中篩選出符合條件的元素。其基本語法如下：\n",
    "\n",
    "filter(function, iterable)\n",
    "- function：一個函式，用來判斷元素是否符合條件。此函式接受一個參數，回傳布林值 True 或 False。回傳 True 的元素會被保留。\n",
    "- iterable：要篩選的可迭代物件。\n",
    "filter() 會回傳一個 filter 物件（可迭代），通常會搭配 list() 或其他容器轉換使用。"
   ]
  },
  {
   "cell_type": "markdown",
   "id": "bc54df54",
   "metadata": {},
   "source": [
    "### 範例說明"
   ]
  },
  {
   "cell_type": "code",
   "execution_count": null,
   "id": "e7d32cde",
   "metadata": {},
   "outputs": [
    {
     "name": "stdout",
     "output_type": "stream",
     "text": [
      "[2, 4, 6]\n",
      "[2, 4, 6]\n"
     ]
    }
   ],
   "source": [
    "# 篩選出列表中所有偶數\n",
    "numbers = [1, 2, 3, 4, 5, 6]\n",
    "\n",
    "def is_even(n):\n",
    "    return n % 2 == 0\n",
    "\n",
    "filtered_numbers = filter(is_even, numbers)\n",
    "print(list(filtered_numbers))  # 輸出: [2, 4, 6]\n",
    "#也可以用匿名函式（lambda）簡化：\n",
    "\n",
    "filtered_numbers = filter(lambda x: x % 2 == 0, numbers)\n",
    "print(list(filtered_numbers))  # 輸出: [2, 4, 6]"
   ]
  },
  {
   "cell_type": "markdown",
   "id": "f61b9307",
   "metadata": {},
   "source": [
    "### 使用重點\n",
    "- filter() 不會改變原始資料，而是回傳一個新的可迭代物件。\n",
    "- 如果 function 是 None，則會過濾掉所有布林值為 False 的元素（例如 False, 0, None, '' 等）。"
   ]
  },
  {
   "cell_type": "code",
   "execution_count": null,
   "id": "c49f1736",
   "metadata": {},
   "outputs": [
    {
     "name": "stdout",
     "output_type": "stream",
     "text": [
      "['apple', 'banana', 'cherry']\n"
     ]
    }
   ],
   "source": [
    "items = [\"apple\", \"\", \"banana\", None, \"cherry\"]\n",
    "filtered_items = filter(None, items)\n",
    "print(list(filtered_items))  # 輸出: ['apple', 'banana', 'cherry']"
   ]
  },
  {
   "cell_type": "code",
   "execution_count": null,
   "id": "fde82afe",
   "metadata": {},
   "outputs": [
    {
     "data": {
      "text/plain": [
       "[{'name': 'Alice', 'Chinese': 85, 'English': 92, 'Math': 78},\n",
       " {'name': 'Charlie', 'Chinese': 90, 'English': 85, 'Math': 85},\n",
       " {'name': 'Eva', 'Chinese': 95, 'English': 98, 'Math': 92},\n",
       " {'name': 'Grace', 'Chinese': 88, 'English': 82, 'Math': 85},\n",
       " {'name': 'Helen', 'Chinese': 92, 'English': 90, 'Math': 94},\n",
       " {'name': 'Jane', 'Chinese': 85, 'English': 87, 'Math': 89}]"
      ]
     },
     "execution_count": 13,
     "metadata": {},
     "output_type": "execute_result"
    }
   ],
   "source": [
    "def chinese_greater_80(student):\n",
    "    if student['Chinese'] >= 80:\n",
    "        return student\n",
    "    \n",
    "\n",
    "list(filter(chinese_greater_80, students))"
   ]
  },
  {
   "cell_type": "markdown",
   "id": "de94d91e",
   "metadata": {},
   "source": [
    "Python 的 lambda 函數是一種匿名函數（沒有名稱的函數），用來寫簡短且單行的函數。它的語法格式如下：\n",
    "\n",
    "- lambda 參數列表: 運算式\n",
    "- lambda 是關鍵字，表示定義一個匿名函數。\n",
    "- 參數列表可以有多個參數，用逗號分隔。\n",
    "- 運算式是函數的回傳值，且只能是一個單行表達式，不能有多行程式碼或複雜語句。"
   ]
  },
  {
   "cell_type": "markdown",
   "id": "4f5e66af",
   "metadata": {},
   "source": [
    "### 範例說明"
   ]
  },
  {
   "cell_type": "markdown",
   "id": "a7a7b78f",
   "metadata": {},
   "source": [
    "1基本用法：定義一個加法函數"
   ]
  },
  {
   "cell_type": "code",
   "execution_count": 26,
   "id": "4e31c5d6",
   "metadata": {},
   "outputs": [
    {
     "name": "stdout",
     "output_type": "stream",
     "text": [
      "7\n"
     ]
    }
   ],
   "source": [
    "add = lambda x, y: x + y\n",
    "print(add(3, 4))  # 輸出 7"
   ]
  },
  {
   "cell_type": "markdown",
   "id": "22caef4e",
   "metadata": {},
   "source": [
    "2立即執行函數（IIFE）"
   ]
  },
  {
   "cell_type": "code",
   "execution_count": 27,
   "id": "78328cae",
   "metadata": {},
   "outputs": [
    {
     "name": "stdout",
     "output_type": "stream",
     "text": [
      "30\n"
     ]
    }
   ],
   "source": [
    "print((lambda x, y: x * y)(5, 6))  # 輸出 30"
   ]
  },
  {
   "cell_type": "markdown",
   "id": "af8b8b7d",
   "metadata": {},
   "source": [
    "3搭配內建函數使用\n",
    "- map()：將 lambda 函數應用於可迭代物件的每個元素"
   ]
  },
  {
   "cell_type": "code",
   "execution_count": null,
   "id": "63babc55",
   "metadata": {},
   "outputs": [],
   "source": [
    "numbers = [1, 2, 3, 4, 5]\n",
    "doubled = list(map(lambda x: x * 2, numbers))\n",
    "print(doubled)  # 輸出 [2, 4, 6, 8, 10]"
   ]
  },
  {
   "cell_type": "markdown",
   "id": "a0fc20e4",
   "metadata": {},
   "source": [
    "- filter()：過濾符合條件的元素"
   ]
  },
  {
   "cell_type": "code",
   "execution_count": null,
   "id": "ef576a50",
   "metadata": {},
   "outputs": [],
   "source": [
    "numbers = [5, 10, 15, 20]\n",
    "filtered = list(filter(lambda x: x > 10, numbers))\n",
    "print(filtered)  # 輸出 [15, 20]"
   ]
  },
  {
   "cell_type": "markdown",
   "id": "24e2b3e7",
   "metadata": {},
   "source": [
    "- reduce()：累積運算（需匯入 functools 模組）"
   ]
  },
  {
   "cell_type": "code",
   "execution_count": 29,
   "id": "dcec4588",
   "metadata": {},
   "outputs": [
    {
     "name": "stdout",
     "output_type": "stream",
     "text": [
      "24\n"
     ]
    }
   ],
   "source": [
    "from functools import reduce\n",
    "numbers = [1, 2, 3, 4]\n",
    "product = reduce(lambda x, y: x * y, numbers)\n",
    "print(product)  # 輸出 24"
   ]
  },
  {
   "cell_type": "markdown",
   "id": "bf2b0385",
   "metadata": {},
   "source": [
    "- sorted()：自訂排序依據"
   ]
  },
  {
   "cell_type": "code",
   "execution_count": 28,
   "id": "1ed480f2",
   "metadata": {},
   "outputs": [
    {
     "name": "stdout",
     "output_type": "stream",
     "text": [
      "[('Honda', 25000), ('Ford', 27000), ('Toyota', 30000)]\n"
     ]
    }
   ],
   "source": [
    "cars = [('Toyota', 30000), ('Honda', 25000), ('Ford', 27000)]\n",
    "sorted_cars = sorted(cars, key=lambda car: car[1])\n",
    "print(sorted_cars)  # 依價格排序"
   ]
  },
  {
   "cell_type": "code",
   "execution_count": 25,
   "id": "555a4840",
   "metadata": {},
   "outputs": [
    {
     "data": {
      "text/plain": [
       "[{'name': 'Alice', 'Chinese': 85, 'English': 92, 'Math': 78},\n",
       " {'name': 'Charlie', 'Chinese': 90, 'English': 85, 'Math': 85},\n",
       " {'name': 'Eva', 'Chinese': 95, 'English': 98, 'Math': 92},\n",
       " {'name': 'Grace', 'Chinese': 88, 'English': 82, 'Math': 85},\n",
       " {'name': 'Helen', 'Chinese': 92, 'English': 90, 'Math': 94},\n",
       " {'name': 'Jane', 'Chinese': 85, 'English': 87, 'Math': 89}]"
      ]
     },
     "execution_count": 25,
     "metadata": {},
     "output_type": "execute_result"
    }
   ],
   "source": [
    "list(filter(lambda student:student if student['Chinese'] >= 80 else None, students))"
   ]
  }
 ],
 "metadata": {
  "kernelspec": {
   "display_name": "base",
   "language": "python",
   "name": "python3"
  },
  "language_info": {
   "codemirror_mode": {
    "name": "ipython",
    "version": 3
   },
   "file_extension": ".py",
   "mimetype": "text/x-python",
   "name": "python",
   "nbconvert_exporter": "python",
   "pygments_lexer": "ipython3",
   "version": "3.12.9"
  }
 },
 "nbformat": 4,
 "nbformat_minor": 5
}
