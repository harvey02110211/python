{
 "cells": [
  {
   "cell_type": "code",
   "execution_count": null,
   "id": "a5efd241",
   "metadata": {},
   "outputs": [],
   "source": [
    "value:int = int(input(\"請輸入一個數值:\"))\n",
    "if value >= 120:\n",
    "    if value <= 220:\n",
    "        print(\"數值在120~220\")"
   ]
  },
  {
   "cell_type": "code",
   "execution_count": null,
   "id": "9bfc921c",
   "metadata": {},
   "outputs": [],
   "source": [
    "value:int = int(input(\"請輸入一個數值:\"))\n",
    "if value < 120:\n",
    "    print(\"小於120\")\n",
    "    \n",
    "if value > 220:\n",
    "    print(\"大於220\")"
   ]
  },
  {
   "cell_type": "code",
   "execution_count": null,
   "id": "0ca147cf",
   "metadata": {},
   "outputs": [],
   "source": [
    "value:int = int(input(\"請輸入一個數值:\"))\n",
    "if value >= 120 and value <= 220: #使用邏輯運算子\n",
    "    print(\"數值在120~220\")"
   ]
  },
  {
   "cell_type": "code",
   "execution_count": null,
   "id": "bfed4f3b",
   "metadata": {},
   "outputs": [],
   "source": [
    "value:int = int(input(\"請輸入一個數值:\"))\n",
    "if value < 120 or value > 220:\n",
    "    print(\"小於120或者大於220\")\n",
    "    "
   ]
  }
 ],
 "metadata": {
  "kernelspec": {
   "display_name": "base",
   "language": "python",
   "name": "python3"
  },
  "language_info": {
   "name": "python",
   "version": "3.12.9"
  }
 },
 "nbformat": 4,
 "nbformat_minor": 5
}
